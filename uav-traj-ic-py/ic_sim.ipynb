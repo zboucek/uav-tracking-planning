{
 "cells": [
  {
   "cell_type": "markdown",
   "metadata": {},
   "source": [
    "# Interpolating Control"
   ]
  },
  {
   "cell_type": "markdown",
   "metadata": {},
   "source": [
    "The Interpolating Control (IC) is implemented in this notebook using CVXPY package. In IC, there is solved simple Linear Program (LP) in each time step. CVXPY serves as a universal Python interface (similarly to well known Yalmip for Matlab).\n",
    "\n",
    "As the LP solver, Gurobi is employed  because of results in [1]. Nevertherless, thanks to CVXPY, solver can be switched simply by changing one parameter."
   ]
  },
  {
   "cell_type": "markdown",
   "metadata": {},
   "source": [
    "## Imports"
   ]
  },
  {
   "cell_type": "code",
   "execution_count": 1,
   "metadata": {},
   "outputs": [],
   "source": [
    "import cvxpy as cp\n",
    "import numpy as np\n",
    "from scipy.io import loadmat\n",
    "import polytope as pc\n",
    "import pickle\n",
    "import pandas as pd\n",
    "import time"
   ]
  },
  {
   "cell_type": "markdown",
   "metadata": {},
   "source": [
    "## Loading data\n",
    "\n",
    "Parameters of UAV model are based on [2]."
   ]
  },
  {
   "cell_type": "code",
   "execution_count": 2,
   "metadata": {},
   "outputs": [],
   "source": [
    "# Load parameters of dynamics and cost function.\n",
    "with open('dynamics.pkl', 'rb') as infile:\n",
    "    result = pickle.load(infile)\n",
    "dt, A, B, Q1, Q2, R1, R2 = result\n",
    "\n",
    "# Load linear constraints as polytopes.\n",
    "with open('sets.pkl', 'rb') as infile:\n",
    "    result = pickle.load(infile)\n",
    "xlim, ulim, wlim = result\n",
    "\n",
    "annots = loadmat('params/ic_params_py.mat')\n",
    "L1 = annots['ctrl1'][0,0]['L']\n",
    "K1 = annots['ctrl1'][0,0]['K']\n",
    "invSet1 = pc.Polytope(annots['ctrl1'][0,0]['F'],\n",
    "                    annots['ctrl1'][0,0]['g'])\n",
    "L2 = annots['ctrl2'][0,0]['L']\n",
    "K2 = annots['ctrl2'][0,0]['K']\n",
    "invSet2 = pc.Polytope(annots['ctrl2'][0,0]['F'],\n",
    "                    annots['ctrl2'][0,0]['g'])"
   ]
  },
  {
   "cell_type": "markdown",
   "metadata": {},
   "source": [
    "## Set up problem"
   ]
  },
  {
   "cell_type": "code",
   "execution_count": 3,
   "metadata": {},
   "outputs": [],
   "source": [
    "# Dimensionality\n",
    "[nx,nu] = np.shape(B)\n",
    "# Problem variables and parameters.\n",
    "setpoint = cp.Parameter(nx)\n",
    "x = cp.Parameter(nx)\n",
    "c = cp.Variable(1)\n",
    "rv = cp.Variable(nx)"
   ]
  },
  {
   "cell_type": "code",
   "execution_count": 4,
   "metadata": {},
   "outputs": [],
   "source": [
    "# Initialization and data for saving the solution.\n",
    "rk = np.zeros((nx,5000))\n",
    "rk[0,100:] = 1\n",
    "x0 = np.zeros(nx)\n",
    "Nsims = 1\n",
    "N = 800\n",
    "xk_ic = np.zeros((nx,N+1))\n",
    "xk_ic[:,0] = x0\n",
    "uk_ic = np.zeros((nu,N))\n",
    "times_ic = np.zeros((N,Nsims))\n",
    "times_ic_lqr = np.zeros((N,Nsims))\n",
    "ck = np.zeros(N+1)\n",
    "reftraj = np.reshape(rk, (1,-1), order='F')\n",
    "traj = np.zeros(N*nx)"
   ]
  },
  {
   "cell_type": "markdown",
   "metadata": {},
   "source": [
    "## Run simulation"
   ]
  },
  {
   "cell_type": "code",
   "execution_count": 5,
   "metadata": {
    "scrolled": true
   },
   "outputs": [
    {
     "name": "stdout",
     "output_type": "stream",
     "text": [
      "Academic license - for non-commercial use only - expires 2021-06-20\n",
      "Using license file /opt/gurobi911/gurobi.lic\n"
     ]
    }
   ],
   "source": [
    "# Objective function and constraints.\n",
    "objective = cp.Minimize(c)\n",
    "constraints = [invSet2.A@rv <= c*invSet2.b,\n",
    "               invSet1.A@(x-rv) <= (1-c)*(invSet1.b + invSet1.A@setpoint),\n",
    "               0 <= c, c <= 1]\n",
    "prob_ic = cp.Problem(objective, constraints)\n",
    "solver = cp.GUROBI\n",
    "\n",
    "for j in range(Nsims):\n",
    "    x.value = x0\n",
    "    for i in range(1,N+1):\n",
    "        # Set current trajectory and setpoint.\n",
    "        traj = reftraj[:,(i-1)*nx:(i-1)*nx+N*nx]\n",
    "        setpoint.value = traj[:,:nx].flatten()\n",
    "        \n",
    "        # Find interpolating coeficient.\n",
    "        result = prob_ic.solve(solver)\n",
    "        \n",
    "        time1 = time.time()\n",
    "        # Calc control input.\n",
    "        r0 = x.value - rv.value\n",
    "        uvk = K2@rv.value + c.value*L2@traj.T\n",
    "        u0k = K1@r0 + (1-c.value)*L1@traj.T\n",
    "        # Save data.\n",
    "        uk_ic[:,i-1] = u0k + uvk\n",
    "        #uk[:,i-1] = K1@x.value + L2@traj.T\n",
    "        times_ic_lqr[i-1,j] = time.time()-time1\n",
    "        \n",
    "        ck[i-1] = c.value\n",
    "        # Run system dynamics.\n",
    "        x.value = A@x.value + B@uk_ic[:,i-1]\n",
    "        xk_ic[:,i] = x.value\n",
    "        times_ic[i-1,j] = prob_ic.solver_stats.solve_time"
   ]
  },
  {
   "cell_type": "markdown",
   "metadata": {},
   "source": [
    "## Save using Pandas to CSV"
   ]
  },
  {
   "cell_type": "code",
   "execution_count": 14,
   "metadata": {},
   "outputs": [],
   "source": [
    "dict_ic = {'Timestamp': np.arange(0,N*dt,dt),\n",
    "            'State1': xk_ic[0,1:N+1], 'State2': xk_ic[1,1:N+1],\n",
    "            'Control': uk_ic[0,:N],\n",
    "            'Ref1': rk[0,:N], 'Ref2': rk[1,:N],\n",
    "            'Err1': xk_ic[0,1:N+1] - rk[0,:N],\n",
    "            'Err2': xk_ic[1,1:N+1] - rk[1,:N],\n",
    "            #'Time Comp.': times_ic[:N,0],\n",
    "            'Time Comp.': times_ic[:N,0]+times_ic_lqr[:N,0]}\n",
    "df_ic = pd.DataFrame(dict_ic)\n",
    "df_ic.to_csv('sim_ic.csv',sep='\\t',index=False,header=True)"
   ]
  },
  {
   "cell_type": "markdown",
   "metadata": {},
   "source": [
    "# Model Predictive Control\n",
    "\n",
    "Model Predictive Control (MPC) will be covered for in two distinct implementations. First, the standard MPC will be implemented. Afterwards, a computationally more efficient alternative using the move blocking scheme. For the sake of efficiency, varying control input is considered only for small numer of time instants and for later for longer time periods it is constant."
   ]
  },
  {
   "cell_type": "code",
   "execution_count": 8,
   "metadata": {},
   "outputs": [],
   "source": [
    "xk_mpc = np.zeros((nx,N+1))\n",
    "xk_mpc[:,0] = x0\n",
    "uk_mpc = np.zeros((nu,N))\n",
    "times_mpc = np.zeros((N,Nsims))\n",
    "u = cp.Variable((nu,N))\n",
    "x = cp.Variable((nx,N+1))\n",
    "r = cp.Parameter((nx,N+1))\n",
    "x_init = cp.Parameter(nx)"
   ]
  },
  {
   "cell_type": "code",
   "execution_count": 9,
   "metadata": {},
   "outputs": [],
   "source": [
    "# Objective function and constraints.\n",
    "cost_mpc = 0\n",
    "constraints_mpc = [x[:,0] == x_init]\n",
    "for k in range(N):\n",
    "    cost_mpc += cp.quad_form(x[:,k]-r[:,k], Q1) \n",
    "    cost_mpc += cp.quad_form(u[:,k], np.array([[R1]]))\n",
    "    constraints_mpc += [x[:,k+1] == A@x[:,k] + B@u[:,k]]\n",
    "    constraints_mpc += [xlim.A@x[:,k] <= xlim.b]\n",
    "    constraints_mpc += [ulim.A@u[:,k] <= ulim.b]\n",
    "    \n",
    "objective_mpc = cp.Minimize(cost_mpc)\n",
    "prob_mpc = cp.Problem(objective_mpc, constraints_mpc)\n",
    "\n",
    "for j in range(Nsims):\n",
    "    x_init.value = x0\n",
    "    for i in range(1,N+1):\n",
    "        # Set current trajectory.\n",
    "        r.value = rk[:,i:i+N+1]\n",
    "        \n",
    "        # Find control strategy.\n",
    "        result = prob_mpc.solve(solver)\n",
    "        \n",
    "        # Save data.\n",
    "        uk_mpc[:,i-1] = u[:,0].value\n",
    "        # Run system dynamics.\n",
    "        x_init.value = A@x_init.value + B@uk_mpc[:,i-1]\n",
    "        xk_mpc[:,i] = x_init.value\n",
    "        times_mpc[i-1,j] = prob_mpc.solver_stats.solve_time"
   ]
  },
  {
   "cell_type": "code",
   "execution_count": 10,
   "metadata": {},
   "outputs": [],
   "source": [
    "dict_mpc = {'Timestamp': np.arange(0,N*dt,dt),\n",
    "            'State1': xk_mpc[0,1:N+1], 'State2': xk_mpc[1,1:N+1],\n",
    "            'Control': uk_mpc[0,:N],\n",
    "            'Ref1': rk[0,:N], 'Ref2': rk[1,:N],\n",
    "            'Err1': xk_mpc[0,1:N+1] - rk[0,:N],\n",
    "            'Err2': xk_mpc[1,1:N+1] - rk[1,:N],\n",
    "            'Time Comp.': times_mpc[:N,0]}\n",
    "df_mpc = pd.DataFrame(dict_mpc)\n",
    "df_mpc.to_csv('sim_mpc.csv',sep='\\t',index=False,header=True)"
   ]
  },
  {
   "cell_type": "markdown",
   "metadata": {},
   "source": [
    "# MPC with move blocking\n",
    "\n",
    "In the first step, the dynamics is conscidered as fast as in the standard model. However, in latter steps the discrete system has much slower period from $T_s = 0.01$ to $T_s = 0.2$. Because of the change, the weights in criterion must be altered accordingly. Therefore, weights are multipled by 10 for i=2:N horizon. The change is not reflected in the evaluation of controller performance, the same criterion is employed."
   ]
  },
  {
   "cell_type": "code",
   "execution_count": 11,
   "metadata": {},
   "outputs": [],
   "source": [
    "xk_mpc_block = np.zeros((nx,N+1))\n",
    "xk_mpc_block[:,0] = x0\n",
    "Ublock = [1,1,1,1,1,5,5,5,5,5,10]\n",
    "Nblock = np.sum(Ublock)\n",
    "Uindex = np.zeros(np.shape(Ublock))\n",
    "for k in range(len(Ublock)):\n",
    "    Uindex[k] = np.sum(Ublock[:k])\n",
    "uk_mpc_block = np.zeros((nu,N))\n",
    "times_mpc_block = np.zeros((N,Nsims))\n",
    "u = cp.Variable((nu,np.size(Ublock)))\n",
    "x = cp.Variable((nx,Nblock+1))\n",
    "r = cp.Parameter((nx,Nblock+1))\n",
    "x_init = cp.Parameter(nx)\n",
    "Ad = np.copy(A)\n",
    "Bd = np.copy(B)\n",
    "Qd = np.copy(Q1)\n",
    "Rd = np.copy(R1)\n",
    "dtd = dt"
   ]
  },
  {
   "cell_type": "code",
   "execution_count": 12,
   "metadata": {},
   "outputs": [],
   "source": [
    "# Objective function and constraints.\n",
    "cost_mpc_block = 0\n",
    "constraints_mpc_block = [x[:,0] == x_init]\n",
    "for k in range(Nblock):\n",
    "    j = np.where(Uindex == k)\n",
    "    if np.size(j) != 0:\n",
    "        u_idx = j[0][0]\n",
    "    cost_mpc_block += cp.quad_form(x[:,k]-r[:,k], Qd)\n",
    "    cost_mpc_block += cp.quad_form(u[:,u_idx], np.array([[Rd]]))\n",
    "    constraints_mpc_block += [x[:,k+1] == Ad@x[:,k] + Bd@u[:,u_idx]]\n",
    "    constraints_mpc_block += [xlim.A@x[:,k] <= xlim.b]\n",
    "    constraints_mpc_block += [ulim.A@u[:,u_idx] <= ulim.b]\n",
    "    if k == 0:\n",
    "        dtd = 0.2\n",
    "        Ad = np.array([[1,dtd],[0,1]])\n",
    "        Bd = np.array([[0],[dtd]])\n",
    "        Qd = 10*np.copy(Q1)\n",
    "        Rd = 10*np.copy(R1)\n",
    "    \n",
    "objective_mpc_block = cp.Minimize(cost_mpc_block)\n",
    "prob_mpc_block = cp.Problem(objective_mpc_block, constraints_mpc_block)\n",
    "\n",
    "for j in range(Nsims):\n",
    "    x_init.value = x0\n",
    "    for i in range(1,N+1):\n",
    "        # Set current trajectory.\n",
    "        index = np.concatenate(([i],list(range(i+1,i+N,20))))\n",
    "        r.value = rk[:,index]\n",
    "        \n",
    "        # Find control strategy.\n",
    "        result = prob_mpc_block.solve(solver)\n",
    "        \n",
    "        # Save data.\n",
    "        uk_mpc_block[:,i-1] = u[:,0].value\n",
    "        # Run system dynamics.\n",
    "        x_init.value = A@x_init.value + B@uk_mpc_block[:,i-1]\n",
    "        xk_mpc_block[:,i] = x_init.value\n",
    "        times_mpc_block[i-1,j] = prob_mpc_block.solver_stats.solve_time"
   ]
  },
  {
   "cell_type": "code",
   "execution_count": 13,
   "metadata": {},
   "outputs": [],
   "source": [
    "dict_mpc_block = {'Timestamp': np.arange(0,N*dt,dt),\n",
    "                  'State1': xk_mpc_block[0,1:N+1], 'State2': xk_mpc_block[1,1:N+1],\n",
    "                  'Control': uk_mpc_block[0,:N],\n",
    "                  'Ref1': rk[0,:N], 'Ref2': rk[1,:N],\n",
    "                  'Err1': xk_mpc_block[0,1:N+1] - rk[0,:N],\n",
    "                  'Err2': xk_mpc_block[1,1:N+1] - rk[1,:N],\n",
    "                  'Time Comp.': times_mpc_block[:N,0]}\n",
    "df_mpc_block = pd.DataFrame(dict_mpc_block)\n",
    "df_mpc_block.to_csv('sim_mpc_block.csv',sep='\\t',index=False,header=True)"
   ]
  },
  {
   "cell_type": "markdown",
   "metadata": {},
   "source": [
    "# Bibliography\n",
    "\n",
    "[1] Z. Bouček and M. Flídr, \"Interpolating Control Based Trajectory Tracking*,\" 2020 16th International Conference on Control, Automation, Robotics and Vision (ICARCV), Shenzhen, China, 2020, pp. 701-706, doi: 10.1109/ICARCV50220.2020.9305511.\n",
    "\n",
    "[2] T. Baca et al., “Autonomous landing on a moving vehicle with an unmanned aerial vehicle,” J. F. Robot., no. January, 2019.)"
   ]
  }
 ],
 "metadata": {
  "kernelspec": {
   "display_name": "Python 3",
   "language": "python",
   "name": "python3"
  },
  "language_info": {
   "codemirror_mode": {
    "name": "ipython",
    "version": 3
   },
   "file_extension": ".py",
   "mimetype": "text/x-python",
   "name": "python",
   "nbconvert_exporter": "python",
   "pygments_lexer": "ipython3",
   "version": "3.8.5"
  }
 },
 "nbformat": 4,
 "nbformat_minor": 4
}
