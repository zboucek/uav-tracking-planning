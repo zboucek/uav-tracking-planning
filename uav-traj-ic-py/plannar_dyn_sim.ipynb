{
 "cells": [
  {
   "cell_type": "markdown",
   "metadata": {},
   "source": [
    "# Interpolating Control"
   ]
  },
  {
   "cell_type": "markdown",
   "metadata": {},
   "source": [
    "The Interpolating Control (IC) is implemented in this notebook using CVXPY package. In IC, there is solved simple Linear Program (LP) in each time step. CVXPY serves as a universal Python interface (similarly to well known Yalmip for Matlab).\n",
    "\n",
    "As the LP solver, Gurobi is employed  because of results in [1]. Nevertherless, thanks to CVXPY, solver can be switched simply by changing one parameter."
   ]
  },
  {
   "cell_type": "markdown",
   "metadata": {},
   "source": [
    "## Imports"
   ]
  },
  {
   "cell_type": "code",
   "execution_count": 1,
   "metadata": {},
   "outputs": [],
   "source": [
    "import cvxpy as cp\n",
    "import numpy as np\n",
    "from scipy.io import loadmat\n",
    "import polytope as pc\n",
    "import pickle\n",
    "import pandas as pd\n",
    "import time\n",
    "from nonlinear_dynamics import discreteUav, uavPlanarNonlin\n",
    "\n",
    "import matplotlib.pyplot as plt\n",
    "from statemodel import StateModel\n",
    "from control_cascade import ControlCascade"
   ]
  },
  {
   "cell_type": "markdown",
   "metadata": {},
   "source": [
    "## Loading data\n",
    "\n",
    "Parameters of UAV model are based on [2]."
   ]
  },
  {
   "cell_type": "code",
   "execution_count": 2,
   "metadata": {},
   "outputs": [],
   "source": [
    "# load model data\n",
    "model_data_folder = \"params\"\n",
    "models_file = {\"lateral\", \"altitude\"}\n",
    "\n",
    "# Load parameters of dynamics and cost function\n",
    "models = []\n",
    "for model_file in models_file:\n",
    "    with open(model_data_folder+\"/\"+\"ctrl_\"+model_file+\".pkl\", 'rb') as infile:\n",
    "        models.append(pickle.load(infile))\n",
    "        \n",
    "with open(model_data_folder+\"/\"+\"ctrl_\"+\"attitude\"+\".pkl\", 'rb') as infile:\n",
    "    model_att = pickle.load(infile)"
   ]
  },
  {
   "cell_type": "code",
   "execution_count": 5,
   "metadata": {},
   "outputs": [
    {
     "name": "stdout",
     "output_type": "stream",
     "text": [
      "[[-14.32695  -1.49533]] [[14.32695 -0.     ]]\n",
      "[[32.82806  0.     ]\n",
      " [ 0.       0.32828]] 0.12274441735371766\n"
     ]
    }
   ],
   "source": [
    "print(model_att.K_h, model_att.L_h)\n",
    "# print(model_att.K_l, model_att.L_l)\n",
    "print(model_att.Q_h, model_att.R_h)"
   ]
  },
  {
   "cell_type": "code",
   "execution_count": 6,
   "metadata": {},
   "outputs": [
    {
     "name": "stdout",
     "output_type": "stream",
     "text": [
      "[[1.    0.001]\n",
      " [0.    1.   ]] [[0.00008]\n",
      " [0.15625]]\n"
     ]
    }
   ],
   "source": [
    "# print(model_att.K_l, model_att.L_l)\n",
    "print(model_att.sys.A, model_att.sys.B)"
   ]
  },
  {
   "cell_type": "code",
   "execution_count": 10,
   "metadata": {},
   "outputs": [
    {
     "name": "stdout",
     "output_type": "stream",
     "text": [
      "[[1.   0.01]\n",
      " [0.   1.  ]] [[0.0001]\n",
      " [0.02  ]]\n",
      "[[4.   0.  ]\n",
      " [0.   0.16]] 29.48340113618408\n",
      "[[-0.36609 -0.60947]] [[ 0.00001  0.00011  0.00004 ...  0.      -0.00003  0.     ]]\n"
     ]
    }
   ],
   "source": [
    "print(models[1].sys.A, models[1].sys.B)\n",
    "print(models[1].Q_h, models[1].R_h)\n",
    "print(models[1].K_h, models[1].L_h)"
   ]
  },
  {
   "cell_type": "markdown",
   "metadata": {},
   "source": [
    "## Set up problem"
   ]
  },
  {
   "cell_type": "code",
   "execution_count": 3,
   "metadata": {},
   "outputs": [],
   "source": [
    "# init controllers\n",
    "types = ['ic', 'mpc', 'mpcmb']\n",
    "cascades = []\n",
    "for type in types:\n",
    "    cascades.append(ControlCascade(type, models, True))\n",
    "    # u = ctrl_ic.spin(rk[:,:N], xk_ic[:,0])"
   ]
  },
  {
   "cell_type": "markdown",
   "metadata": {},
   "source": []
  },
  {
   "cell_type": "code",
   "execution_count": 31,
   "metadata": {},
   "outputs": [],
   "source": [
    "# Initialization and data for saving the solution\n",
    "rk = np.zeros((6,5000))\n",
    "rk[(0,1),100:] = 1\n",
    "x0 = np.zeros((6,1))\n",
    "N = 800\n",
    "xk_ic = np.zeros((6,N+1))\n",
    "# xk_ic[:,0] = x0\n",
    "uk_ic = np.zeros((2,N))\n",
    "times_ic = np.zeros((N,1))\n",
    "times_ic_lqr = np.zeros((N,1))\n",
    "ck = np.zeros((N+1,1))\n",
    "\n"
   ]
  },
  {
   "cell_type": "markdown",
   "metadata": {},
   "source": [
    "## Run simulation"
   ]
  },
  {
   "cell_type": "code",
   "execution_count": 40,
   "metadata": {
    "scrolled": true
   },
   "outputs": [
    {
     "name": "stderr",
     "output_type": "stream",
     "text": [
      "/home/zboucek/anaconda3/envs/ic/lib/python3.8/site-packages/cvxpy/problems/problem.py:1245: UserWarning: Solution may be inaccurate. Try another solver, adjusting the solver settings, or solve with verbose=True for more information.\n",
      "  warnings.warn(\n"
     ]
    },
    {
     "ename": "TypeError",
     "evalue": "unsupported operand type(s) for -: 'float' and 'NoneType'",
     "output_type": "error",
     "traceback": [
      "\u001b[0;31m---------------------------------------------------------------------------\u001b[0m",
      "\u001b[0;31mTypeError\u001b[0m                                 Traceback (most recent call last)",
      "\u001b[0;32m<ipython-input-40-4c4e5e5a0e4d>\u001b[0m in \u001b[0;36m<module>\u001b[0;34m\u001b[0m\n\u001b[1;32m      5\u001b[0m         \u001b[0;31m# time1 = time.time()\u001b[0m\u001b[0;34m\u001b[0m\u001b[0;34m\u001b[0m\u001b[0;34m\u001b[0m\u001b[0m\n\u001b[1;32m      6\u001b[0m         \u001b[0;31m# Save data.\u001b[0m\u001b[0;34m\u001b[0m\u001b[0;34m\u001b[0m\u001b[0;34m\u001b[0m\u001b[0m\n\u001b[0;32m----> 7\u001b[0;31m         \u001b[0muk_att_ref\u001b[0m\u001b[0;34m,\u001b[0m \u001b[0muk_thrust\u001b[0m \u001b[0;34m=\u001b[0m \u001b[0mcascade\u001b[0m\u001b[0;34m.\u001b[0m\u001b[0mspin\u001b[0m\u001b[0;34m(\u001b[0m\u001b[0mrk\u001b[0m\u001b[0;34m[\u001b[0m\u001b[0;34m:\u001b[0m\u001b[0;34m,\u001b[0m\u001b[0;34m(\u001b[0m\u001b[0mi\u001b[0m\u001b[0;34m-\u001b[0m\u001b[0;36m1\u001b[0m\u001b[0;34m)\u001b[0m\u001b[0;34m:\u001b[0m\u001b[0mi\u001b[0m\u001b[0;34m+\u001b[0m\u001b[0mmodels\u001b[0m\u001b[0;34m[\u001b[0m\u001b[0;36m0\u001b[0m\u001b[0;34m]\u001b[0m\u001b[0;34m.\u001b[0m\u001b[0mN\u001b[0m\u001b[0;34m-\u001b[0m\u001b[0;36m1\u001b[0m\u001b[0;34m]\u001b[0m\u001b[0;34m,\u001b[0m \u001b[0mxk\u001b[0m\u001b[0;34m)\u001b[0m\u001b[0;34m\u001b[0m\u001b[0;34m\u001b[0m\u001b[0m\n\u001b[0m\u001b[1;32m      8\u001b[0m         \u001b[0;31m# times_ic_lqr[i-1,j] = time.time()-time1-times_ic[i-1,j]\u001b[0m\u001b[0;34m\u001b[0m\u001b[0;34m\u001b[0m\u001b[0;34m\u001b[0m\u001b[0m\n\u001b[1;32m      9\u001b[0m         \u001b[0;31m# Run system dynamics.\u001b[0m\u001b[0;34m\u001b[0m\u001b[0;34m\u001b[0m\u001b[0;34m\u001b[0m\u001b[0m\n",
      "\u001b[0;32m~/mygit/ic/uav-traj-ic-py/control_cascade.py\u001b[0m in \u001b[0;36mspin\u001b[0;34m(self, traj, state)\u001b[0m\n\u001b[1;32m     52\u001b[0m         \"\"\"\n\u001b[1;32m     53\u001b[0m         \u001b[0mu_att_ref\u001b[0m\u001b[0;34m,\u001b[0m \u001b[0mcost\u001b[0m\u001b[0;34m,\u001b[0m \u001b[0mtime_att\u001b[0m \u001b[0;34m=\u001b[0m \u001b[0mself\u001b[0m\u001b[0;34m.\u001b[0m\u001b[0mcontrollers\u001b[0m\u001b[0;34m[\u001b[0m\u001b[0;36m0\u001b[0m\u001b[0;34m]\u001b[0m\u001b[0;34m.\u001b[0m\u001b[0mspin\u001b[0m\u001b[0;34m(\u001b[0m\u001b[0mtraj\u001b[0m\u001b[0;34m[\u001b[0m\u001b[0;34m[\u001b[0m\u001b[0;36m0\u001b[0m\u001b[0;34m,\u001b[0m\u001b[0;36m3\u001b[0m\u001b[0;34m]\u001b[0m\u001b[0;34m,\u001b[0m\u001b[0;34m:\u001b[0m\u001b[0mself\u001b[0m\u001b[0;34m.\u001b[0m\u001b[0mmodels\u001b[0m\u001b[0;34m[\u001b[0m\u001b[0;36m0\u001b[0m\u001b[0;34m]\u001b[0m\u001b[0;34m.\u001b[0m\u001b[0mN\u001b[0m\u001b[0;34m+\u001b[0m\u001b[0;36m1\u001b[0m\u001b[0;34m]\u001b[0m\u001b[0;34m,\u001b[0m \u001b[0mstate\u001b[0m\u001b[0;34m[\u001b[0m\u001b[0;34m[\u001b[0m\u001b[0;36m0\u001b[0m\u001b[0;34m,\u001b[0m\u001b[0;36m3\u001b[0m\u001b[0;34m]\u001b[0m\u001b[0;34m,\u001b[0m\u001b[0;36m0\u001b[0m\u001b[0;34m]\u001b[0m\u001b[0;34m)\u001b[0m\u001b[0;34m\u001b[0m\u001b[0;34m\u001b[0m\u001b[0m\n\u001b[0;32m---> 54\u001b[0;31m         \u001b[0mu_thrust\u001b[0m\u001b[0;34m,\u001b[0m \u001b[0mcost\u001b[0m\u001b[0;34m,\u001b[0m \u001b[0mtime_alt\u001b[0m \u001b[0;34m=\u001b[0m \u001b[0mself\u001b[0m\u001b[0;34m.\u001b[0m\u001b[0mcontrollers\u001b[0m\u001b[0;34m[\u001b[0m\u001b[0;36m1\u001b[0m\u001b[0;34m]\u001b[0m\u001b[0;34m.\u001b[0m\u001b[0mspin\u001b[0m\u001b[0;34m(\u001b[0m\u001b[0mtraj\u001b[0m\u001b[0;34m[\u001b[0m\u001b[0;34m[\u001b[0m\u001b[0;36m1\u001b[0m\u001b[0;34m,\u001b[0m\u001b[0;36m4\u001b[0m\u001b[0;34m]\u001b[0m\u001b[0;34m,\u001b[0m\u001b[0;34m:\u001b[0m\u001b[0mself\u001b[0m\u001b[0;34m.\u001b[0m\u001b[0mmodels\u001b[0m\u001b[0;34m[\u001b[0m\u001b[0;36m1\u001b[0m\u001b[0;34m]\u001b[0m\u001b[0;34m.\u001b[0m\u001b[0mN\u001b[0m\u001b[0;34m+\u001b[0m\u001b[0;36m1\u001b[0m\u001b[0;34m]\u001b[0m\u001b[0;34m,\u001b[0m \u001b[0mstate\u001b[0m\u001b[0;34m[\u001b[0m\u001b[0;34m[\u001b[0m\u001b[0;36m1\u001b[0m\u001b[0;34m,\u001b[0m\u001b[0;36m4\u001b[0m\u001b[0;34m]\u001b[0m\u001b[0;34m,\u001b[0m\u001b[0;36m0\u001b[0m\u001b[0;34m]\u001b[0m\u001b[0;34m)\u001b[0m\u001b[0;34m\u001b[0m\u001b[0;34m\u001b[0m\u001b[0m\n\u001b[0m\u001b[1;32m     55\u001b[0m \u001b[0;34m\u001b[0m\u001b[0m\n\u001b[1;32m     56\u001b[0m         \u001b[0;32mif\u001b[0m \u001b[0mself\u001b[0m\u001b[0;34m.\u001b[0m\u001b[0mlog_data\u001b[0m\u001b[0;34m:\u001b[0m\u001b[0;34m\u001b[0m\u001b[0;34m\u001b[0m\u001b[0m\n",
      "\u001b[0;32m~/mygit/ic/uav-traj-ic-py/controllers.py\u001b[0m in \u001b[0;36mspin\u001b[0;34m(self, trajectory, state)\u001b[0m\n\u001b[1;32m     73\u001b[0m \u001b[0;34m\u001b[0m\u001b[0m\n\u001b[1;32m     74\u001b[0m     \u001b[0;31m# Interpolate control input\u001b[0m\u001b[0;34m\u001b[0m\u001b[0;34m\u001b[0m\u001b[0;34m\u001b[0m\u001b[0m\n\u001b[0;32m---> 75\u001b[0;31m     \u001b[0mr0\u001b[0m \u001b[0;34m=\u001b[0m \u001b[0mself\u001b[0m\u001b[0;34m.\u001b[0m\u001b[0mx\u001b[0m\u001b[0;34m.\u001b[0m\u001b[0mvalue\u001b[0m \u001b[0;34m-\u001b[0m \u001b[0mself\u001b[0m\u001b[0;34m.\u001b[0m\u001b[0m_rv\u001b[0m\u001b[0;34m.\u001b[0m\u001b[0mvalue\u001b[0m\u001b[0;34m\u001b[0m\u001b[0;34m\u001b[0m\u001b[0m\n\u001b[0m\u001b[1;32m     76\u001b[0m     \u001b[0muv\u001b[0m \u001b[0;34m=\u001b[0m \u001b[0mself\u001b[0m\u001b[0;34m.\u001b[0m\u001b[0mK_l\u001b[0m\u001b[0;34m@\u001b[0m\u001b[0mself\u001b[0m\u001b[0;34m.\u001b[0m\u001b[0m_rv\u001b[0m\u001b[0;34m.\u001b[0m\u001b[0mvalue\u001b[0m \u001b[0;34m+\u001b[0m \u001b[0mself\u001b[0m\u001b[0;34m.\u001b[0m\u001b[0mc\u001b[0m\u001b[0;34m.\u001b[0m\u001b[0mvalue\u001b[0m\u001b[0;34m*\u001b[0m\u001b[0mself\u001b[0m\u001b[0;34m.\u001b[0m\u001b[0mL_l\u001b[0m\u001b[0;34m@\u001b[0m\u001b[0mself\u001b[0m\u001b[0;34m.\u001b[0m\u001b[0mr\u001b[0m\u001b[0;34m\u001b[0m\u001b[0;34m\u001b[0m\u001b[0m\n\u001b[1;32m     77\u001b[0m     \u001b[0mu0\u001b[0m \u001b[0;34m=\u001b[0m \u001b[0mself\u001b[0m\u001b[0;34m.\u001b[0m\u001b[0mK_h\u001b[0m\u001b[0;34m@\u001b[0m\u001b[0mr0\u001b[0m \u001b[0;34m+\u001b[0m \u001b[0;34m(\u001b[0m\u001b[0;36m1\u001b[0m\u001b[0;34m-\u001b[0m\u001b[0mself\u001b[0m\u001b[0;34m.\u001b[0m\u001b[0mc\u001b[0m\u001b[0;34m.\u001b[0m\u001b[0mvalue\u001b[0m\u001b[0;34m)\u001b[0m\u001b[0;34m*\u001b[0m\u001b[0mself\u001b[0m\u001b[0;34m.\u001b[0m\u001b[0mL_h\u001b[0m\u001b[0;34m@\u001b[0m\u001b[0mself\u001b[0m\u001b[0;34m.\u001b[0m\u001b[0mr\u001b[0m\u001b[0;34m\u001b[0m\u001b[0;34m\u001b[0m\u001b[0m\n",
      "\u001b[0;31mTypeError\u001b[0m: unsupported operand type(s) for -: 'float' and 'NoneType'"
     ]
    }
   ],
   "source": [
    "for cascade in cascades:\n",
    "    xk = x0\n",
    "    for i in range(1,cascade.models[0].N+1):\n",
    "        # Set current trajectory and setpoint.\n",
    "        # time1 = time.time()\n",
    "        # Save data.\n",
    "        uk_att_ref, uk_thrust = cascade.spin(rk[:,(i-1):i+models[0].N-1], xk)\n",
    "        # times_ic_lqr[i-1,j] = time.time()-time1-times_ic[i-1,j]\n",
    "        # Run system dynamics.\n",
    "        for i in range(10):\n",
    "            uk_torque = model_att.K_h@xk[[2,5],0] + model_att.L_h@[uk_att_ref[0,0],0]\n",
    "            xk = discreteUav(xk, np.array([uk_thrust[0,0], uk_torque[0,0]]), model_att.dt)"
   ]
  },
  {
   "cell_type": "code",
   "execution_count": 15,
   "metadata": {},
   "outputs": [
    {
     "data": {
      "text/plain": [
       "[<matplotlib.lines.Line2D at 0x7fd89dabb880>]"
      ]
     },
     "execution_count": 15,
     "metadata": {},
     "output_type": "execute_result"
    },
    {
     "data": {
      "image/png": "[encoded data removed]",
      "text/plain": [
       "<Figure size 432x288 with 1 Axes>"
      ]
     },
     "metadata": {
      "needs_background": "light"
     },
     "output_type": "display_data"
    }
   ],
   "source": [
    "plt.step(range(0,models[0].N),xk_ic[0,0:models[0].N])"
   ]
  },
  {
   "cell_type": "code",
   "execution_count": null,
   "metadata": {},
   "outputs": [
    {
     "data": {
      "text/plain": [
       "array([[1.001  ],\n",
       "       [1.001  ],\n",
       "       [1.001  ],\n",
       "       [0.99919],\n",
       "       [0.99071],\n",
       "       [1.05682]])"
      ]
     },
     "execution_count": 19,
     "metadata": {},
     "output_type": "execute_result"
    }
   ],
   "source": [
    "discreteUav(np.ones((6,1)), np.random.randn(2, 1), 1e-3)"
   ]
  },
  {
   "cell_type": "markdown",
   "metadata": {},
   "source": [
    "## Save using Pandas to CSV"
   ]
  },
  {
   "cell_type": "code",
   "execution_count": null,
   "metadata": {},
   "outputs": [],
   "source": [
    "dict_ic = {'Timestamp': np.arange(0,N*models[0].dt,models[0].dt),\n",
    "            'State1': xk_ic[0,1:N+1], 'State2': xk_ic[1,1:N+1],\n",
    "            'Control': uk_ic[0,:N],\n",
    "            'Ref1': rk[0,:N], 'Ref2': rk[1,:N],\n",
    "            'Err1': xk_ic[0,1:N+1] - rk[0,:N],\n",
    "            'Err2': xk_ic[1,1:N+1] - rk[1,:N],\n",
    "            #'Time Comp.': times_ic[:N,0],\n",
    "            'Time Comp.': times_ic[:N,0]+times_ic_lqr[:N,0]}\n",
    "df_ic = pd.DataFrame(dict_ic)\n",
    "df_ic.to_csv('sim_ic.csv',sep='\\t',index=False,header=True)"
   ]
  },
  {
   "cell_type": "markdown",
   "metadata": {},
   "source": [
    "# Model Predictive Control\n",
    "\n",
    "Model Predictive Control (MPC) will be covered for in two distinct implementations. First, the standard MPC will be implemented. Afterwards, a computationally more efficient alternative using the move blocking scheme. For the sake of efficiency, varying control input is considered only for small numer of time instants and for later for longer time periods it is constant."
   ]
  },
  {
   "cell_type": "code",
   "execution_count": null,
   "metadata": {},
   "outputs": [
    {
     "ename": "NameError",
     "evalue": "name 'nx' is not defined",
     "output_type": "error",
     "traceback": [
      "\u001b[0;31m---------------------------------------------------------------------------\u001b[0m",
      "\u001b[0;31mNameError\u001b[0m                                 Traceback (most recent call last)",
      "\u001b[0;32m<ipython-input-11-ac1473d78dd2>\u001b[0m in \u001b[0;36m<module>\u001b[0;34m\u001b[0m\n\u001b[0;32m----> 1\u001b[0;31m \u001b[0mxk_mpc\u001b[0m \u001b[0;34m=\u001b[0m \u001b[0mnp\u001b[0m\u001b[0;34m.\u001b[0m\u001b[0mzeros\u001b[0m\u001b[0;34m(\u001b[0m\u001b[0;34m(\u001b[0m\u001b[0mnx\u001b[0m\u001b[0;34m,\u001b[0m\u001b[0mN\u001b[0m\u001b[0;34m+\u001b[0m\u001b[0;36m1\u001b[0m\u001b[0;34m)\u001b[0m\u001b[0;34m)\u001b[0m\u001b[0;34m\u001b[0m\u001b[0;34m\u001b[0m\u001b[0m\n\u001b[0m\u001b[1;32m      2\u001b[0m \u001b[0mxk_mpc\u001b[0m\u001b[0;34m[\u001b[0m\u001b[0;34m:\u001b[0m\u001b[0;34m,\u001b[0m\u001b[0;36m0\u001b[0m\u001b[0;34m]\u001b[0m \u001b[0;34m=\u001b[0m \u001b[0mx0\u001b[0m\u001b[0;34m\u001b[0m\u001b[0;34m\u001b[0m\u001b[0m\n\u001b[1;32m      3\u001b[0m \u001b[0muk_mpc\u001b[0m \u001b[0;34m=\u001b[0m \u001b[0mnp\u001b[0m\u001b[0;34m.\u001b[0m\u001b[0mzeros\u001b[0m\u001b[0;34m(\u001b[0m\u001b[0;34m(\u001b[0m\u001b[0mnu\u001b[0m\u001b[0;34m,\u001b[0m\u001b[0mN\u001b[0m\u001b[0;34m)\u001b[0m\u001b[0;34m)\u001b[0m\u001b[0;34m\u001b[0m\u001b[0;34m\u001b[0m\u001b[0m\n\u001b[1;32m      4\u001b[0m \u001b[0mtimes_mpc\u001b[0m \u001b[0;34m=\u001b[0m \u001b[0mnp\u001b[0m\u001b[0;34m.\u001b[0m\u001b[0mzeros\u001b[0m\u001b[0;34m(\u001b[0m\u001b[0;34m(\u001b[0m\u001b[0mN\u001b[0m\u001b[0;34m,\u001b[0m\u001b[0mNsims\u001b[0m\u001b[0;34m)\u001b[0m\u001b[0;34m)\u001b[0m\u001b[0;34m\u001b[0m\u001b[0;34m\u001b[0m\u001b[0m\n\u001b[1;32m      5\u001b[0m \u001b[0mu\u001b[0m \u001b[0;34m=\u001b[0m \u001b[0mcp\u001b[0m\u001b[0;34m.\u001b[0m\u001b[0mVariable\u001b[0m\u001b[0;34m(\u001b[0m\u001b[0;34m(\u001b[0m\u001b[0mnu\u001b[0m\u001b[0;34m,\u001b[0m\u001b[0mN\u001b[0m\u001b[0;34m)\u001b[0m\u001b[0;34m)\u001b[0m\u001b[0;34m\u001b[0m\u001b[0;34m\u001b[0m\u001b[0m\n",
      "\u001b[0;31mNameError\u001b[0m: name 'nx' is not defined"
     ]
    }
   ],
   "source": [
    "xk_mpc = np.zeros((nx,N+1))\n",
    "xk_mpc[:,0] = x0\n",
    "uk_mpc = np.zeros((nu,N))\n",
    "times_mpc = np.zeros((N,Nsims))\n",
    "u = cp.Variable((nu,N))\n",
    "x = cp.Variable((nx,N+1))\n",
    "r = cp.Parameter((nx,N+1))\n",
    "x_init = cp.Parameter(nx)"
   ]
  },
  {
   "cell_type": "code",
   "execution_count": null,
   "metadata": {},
   "outputs": [],
   "source": [
    "# Objective function and constraints.\n",
    "cost_mpc = 0\n",
    "constraints_mpc = [x[:,0] == x_init]\n",
    "for k in range(N):\n",
    "    cost_mpc += cp.quad_form(x[:,k]-r[:,k], Q1) \n",
    "    cost_mpc += cp.quad_form(u[:,k], np.array([[R1]]))\n",
    "    constraints_mpc += [x[:,k+1] == A@x[:,k] + B@u[:,k]]\n",
    "    constraints_mpc += [xlim.A@x[:,k] <= xlim.b]\n",
    "    constraints_mpc += [ulim.A@u[:,k] <= ulim.b]\n",
    "    \n",
    "objective_mpc = cp.Minimize(cost_mpc)\n",
    "prob_mpc = cp.Problem(objective_mpc, constraints_mpc)\n",
    "\n",
    "for j in range(Nsims):\n",
    "    x_init.value = x0\n",
    "    for i in range(1,N+1):\n",
    "        # Set current trajectory.\n",
    "        r.value = rk[:,i:i+N+1]\n",
    "        \n",
    "        # Find control strategy.\n",
    "        result = prob_mpc.solve(solver)\n",
    "        \n",
    "        # Save data.\n",
    "        uk_mpc[:,i-1] = u[:,0].value\n",
    "        # Run system dynamics.\n",
    "        x_init.value = A@x_init.value + B@uk_mpc[:,i-1]\n",
    "        xk_mpc[:,i] = x_init.value\n",
    "        times_mpc[i-1,j] = prob_mpc.solver_stats.solve_time"
   ]
  },
  {
   "cell_type": "code",
   "execution_count": null,
   "metadata": {},
   "outputs": [],
   "source": [
    "dict_mpc = {'Timestamp': np.arange(0,N*dt,dt),\n",
    "            'State1': xk_mpc[0,1:N+1], 'State2': xk_mpc[1,1:N+1],\n",
    "            'Control': uk_mpc[0,:N],\n",
    "            'Ref1': rk[0,:N], 'Ref2': rk[1,:N],\n",
    "            'Err1': xk_mpc[0,1:N+1] - rk[0,:N],\n",
    "            'Err2': xk_mpc[1,1:N+1] - rk[1,:N],\n",
    "            'Time Comp.': times_mpc[:N,0]}\n",
    "df_mpc = pd.DataFrame(dict_mpc)\n",
    "df_mpc.to_csv('sim_mpc.csv',sep='\\t',index=False,header=True)"
   ]
  },
  {
   "cell_type": "markdown",
   "metadata": {},
   "source": [
    "# MPC with move blocking\n",
    "\n",
    "In the first step, the dynamics is conscidered as fast as in the standard model. However, in latter steps the discrete system has much slower period from $T_s = 0.01$ to $T_s = 0.2$. Because of the change, the weights in criterion must be altered accordingly. Therefore, weights are multipled by 10 for i=2:N horizon. The change is not reflected in the evaluation of controller performance, the same criterion is employed."
   ]
  },
  {
   "cell_type": "code",
   "execution_count": null,
   "metadata": {},
   "outputs": [],
   "source": [
    "xk_mpc_block = np.zeros((nx,N+1))\n",
    "xk_mpc_block[:,0] = x0\n",
    "Ublock = [1,1,1,1,1,5,5,5,5,5,10]\n",
    "Nblock = np.sum(Ublock)\n",
    "Uindex = np.zeros(np.shape(Ublock))\n",
    "for k in range(len(Ublock)):\n",
    "    Uindex[k] = np.sum(Ublock[:k])\n",
    "uk_mpc_block = np.zeros((nu,N))\n",
    "times_mpc_block = np.zeros((N,Nsims))\n",
    "u = cp.Variable((nu,np.size(Ublock)))\n",
    "x = cp.Variable((nx,Nblock+1))\n",
    "r = cp.Parameter((nx,Nblock+1))\n",
    "x_init = cp.Parameter(nx)\n",
    "Ad = np.copy(A)\n",
    "Bd = np.copy(B)\n",
    "Qd = np.copy(Q1)\n",
    "Rd = np.copy(R1)\n",
    "dtd = dt"
   ]
  },
  {
   "cell_type": "code",
   "execution_count": null,
   "metadata": {},
   "outputs": [],
   "source": [
    "# Objective function and constraints.\n",
    "cost_mpc_block = 0\n",
    "constraints_mpc_block = [x[:,0] == x_init]\n",
    "for k in range(Nblock):\n",
    "    j = np.where(Uindex == k)\n",
    "    if np.size(j) != 0:\n",
    "        u_idx = j[0][0]\n",
    "    cost_mpc_block += cp.quad_form(x[:,k]-r[:,k], Qd)\n",
    "    cost_mpc_block += cp.quad_form(u[:,u_idx], np.array([[Rd]]))\n",
    "    constraints_mpc_block += [x[:,k+1] == Ad@x[:,k] + Bd@u[:,u_idx]]\n",
    "    constraints_mpc_block += [xlim.A@x[:,k] <= xlim.b]\n",
    "    constraints_mpc_block += [ulim.A@u[:,u_idx] <= ulim.b]\n",
    "    if k == 0:\n",
    "        dtd = 0.2\n",
    "        Ad = np.array([[1,dtd],[0,1]])\n",
    "        Bd = np.array([[0],[dtd]])\n",
    "        Qd = 10*np.copy(Q1)\n",
    "        Rd = 10*np.copy(R1)\n",
    "    \n",
    "objective_mpc_block = cp.Minimize(cost_mpc_block)\n",
    "prob_mpc_block = cp.Problem(objective_mpc_block, constraints_mpc_block)\n",
    "\n",
    "for j in range(Nsims):\n",
    "    x_init.value = x0\n",
    "    for i in range(1,N+1):\n",
    "        # Set current trajectory.\n",
    "        index = np.concatenate(([i],list(range(i+1,i+N,20))))\n",
    "        r.value = rk[:,index]\n",
    "        \n",
    "        # Find control strategy.\n",
    "        result = prob_mpc_block.solve(solver)\n",
    "        \n",
    "        # Save data.\n",
    "        uk_mpc_block[:,i-1] = u[:,0].value\n",
    "        # Run system dynamics.\n",
    "        x_init.value = A@x_init.value + B@uk_mpc_block[:,i-1]\n",
    "        xk_mpc_block[:,i] = x_init.value\n",
    "        times_mpc_block[i-1,j] = prob_mpc_block.solver_stats.solve_time"
   ]
  },
  {
   "cell_type": "code",
   "execution_count": null,
   "metadata": {},
   "outputs": [],
   "source": [
    "dict_mpc_block = {'Timestamp': np.arange(0,N*dt,dt),\n",
    "                  'State1': xk_mpc_block[0,1:N+1], 'State2': xk_mpc_block[1,1:N+1],\n",
    "                  'Control': uk_mpc_block[0,:N],\n",
    "                  'Ref1': rk[0,:N], 'Ref2': rk[1,:N],\n",
    "                  'Err1': xk_mpc_block[0,1:N+1] - rk[0,:N],\n",
    "                  'Err2': xk_mpc_block[1,1:N+1] - rk[1,:N],\n",
    "                  'Time Comp.': times_mpc_block[:N,0]}\n",
    "df_mpc_block = pd.DataFrame(dict_mpc_block)\n",
    "df_mpc_block.to_csv('sim_mpc_block.csv',sep='\\t',index=False,header=True)"
   ]
  },
  {
   "cell_type": "markdown",
   "metadata": {},
   "source": [
    "# Bibliography\n",
    "\n",
    "[1] Z. Bouček and M. Flídr, \"Interpolating Control Based Trajectory Tracking*,\" 2020 16th International Conference on Control, Automation, Robotics and Vision (ICARCV), Shenzhen, China, 2020, pp. 701-706, doi: 10.1109/ICARCV50220.2020.9305511.\n",
    "\n",
    "[2] T. Baca et al., “Autonomous landing on a moving vehicle with an unmanned aerial vehicle,” J. F. Robot., no. January, 2019.)"
   ]
  }
 ],
 "metadata": {
  "kernelspec": {
   "display_name": "Python 3.8.5 ('ic')",
   "language": "python",
   "name": "python3"
  },
  "language_info": {
   "codemirror_mode": {
    "name": "ipython",
    "version": 3
   },
   "file_extension": ".py",
   "mimetype": "text/x-python",
   "name": "python",
   "nbconvert_exporter": "python",
   "pygments_lexer": "ipython3",
   "version": "3.8.5"
  },
  "vscode": {
   "interpreter": {
    "hash": "a66a35635cbc48fc0758b55df247e2b75e5f52562d953f3ca44f3576b5440ce1"
   }
  }
 },
 "nbformat": 4,
 "nbformat_minor": 4
}
